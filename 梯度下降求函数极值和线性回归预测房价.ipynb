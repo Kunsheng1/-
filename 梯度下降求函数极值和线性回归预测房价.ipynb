{
 "cells": [
  {
   "cell_type": "markdown",
   "id": "058a43f8",
   "metadata": {},
   "source": [
    "作业1：求函数f(x)=(x-1)^2和f(x,y)=(x-2)^2+(y-3)^2的极值点"
   ]
  },
  {
   "cell_type": "code",
   "execution_count": 3,
   "id": "94b2b691",
   "metadata": {},
   "outputs": [
    {
     "name": "stdout",
     "output_type": "stream",
     "text": [
      "Please input the function: (x-1)^2\n",
      "Iteration 1 : \t x  = -3.519240897960\n",
      "Iteration 11 : \t x  = 0.514749757246\n",
      "Iteration 21 : \t x  = 0.947896205616\n",
      "Iteration 31 : \t x  = 0.994404951366\n",
      "Iteration 41 : \t x  = 0.999398789915\n",
      "Iteration 51 : \t x  = 0.999934999246\n",
      "Iteration 61 : \t x  = 0.999992574284\n",
      "Final Result :  Iteration 63 :  {'x': 0.999995067541917} \tf(x) =  2.4329142740290515e-11\n",
      "\n"
     ]
    },
    {
     "data": {
      "image/png": "[encoded data removed]",
      "text/plain": [
       "<Figure size 432x288 with 1 Axes>"
      ]
     },
     "metadata": {
      "needs_background": "light"
     },
     "output_type": "display_data"
    },
    {
     "name": "stdout",
     "output_type": "stream",
     "text": [
      "Please input the function: (x-2)^2+(y-3)^2\n",
      "Iteration 1 : \t x  = 4.430078172263\t y  = -8.759842569828\n",
      "Iteration 11 : \t x  = 2.260927210612\t y  = 1.737296072668\n",
      "Iteration 21 : \t x  = 2.028016399581\t y  = 2.864417751910\n",
      "Iteration 31 : \t x  = 2.003007791685\t y  = 2.985441520656\n",
      "Iteration 41 : \t x  = 2.000322512860\t y  = 2.998436348871\n",
      "Iteration 51 : \t x  = 2.000034183242\t y  = 2.999831657926\n",
      "Iteration 61 : \t x  = 2.000003224085\t y  = 2.999981478094\n",
      "Final Result :  Iteration 67 :  {'x': 2.0000004762464654, 'y': 2.9999947756656047} \tf(x,y) =  2.7520480569854823e-11\n",
      "\n"
     ]
    },
    {
     "data": {
      "image/png": "[encoded data removed]",
      "text/plain": [
       "<Figure size 432x288 with 1 Axes>"
      ]
     },
     "metadata": {
      "needs_background": "light"
     },
     "output_type": "display_data"
    },
    {
     "data": {
      "image/png": "[encoded data removed]",
      "text/plain": [
       "<Figure size 432x288 with 1 Axes>"
      ]
     },
     "metadata": {
      "needs_background": "light"
     },
     "output_type": "display_data"
    }
   ],
   "source": [
    "import copy\n",
    "import random\n",
    "import re\n",
    "import matplotlib.pyplot as plt\n",
    "\n",
    "alpha = 0.1  # 学习率\n",
    "iterations = 1000  # 迭代次数\n",
    "epsilon = 0.000001  # 迭代精度\n",
    "\n",
    "\n",
    "# 计算函数值\n",
    "def func(var, i):  # var为待更新变量，i为待更新变量值\n",
    "    # 创建表达式副本\n",
    "    e = copy.deepcopy(expression)\n",
    "    # 将表达式中的变量替换为对应值\n",
    "    if var != \"\":\n",
    "        e = e.replace(var, str(i))\n",
    "    for v in var_list:\n",
    "        e = e.replace(v, str(var_dic[v]))\n",
    "    return eval(e)\n",
    "\n",
    "\n",
    "# 提取函数中的所有变量名称\n",
    "def extract_variables():\n",
    "    variables = re.findall(r'[a-zA-Z_]\\w*', expression)  # 使用正则表达式匹配单词边界的单词\n",
    "    return list(set(variables))\n",
    "\n",
    "\n",
    "# 定义函数的导数\n",
    "def derivative(var, i):  # var为待更新变量，i为待更新变量值\n",
    "    return (func(var, i + epsilon) - func(var, i)) / epsilon\n",
    "\n",
    "\n",
    "for time in range(2):\n",
    "    loss = []\n",
    "    x = []\n",
    "    y = []\n",
    "    expression = input(\"Please input the function: \").replace(\"^\", \"**\")\n",
    "    var_list = []  # 表达式中所有变量的列表\n",
    "    var_dic = {}  # var_list中每个变量对应的极值点\n",
    "    var_list = extract_variables()  # 提取函数中的所有变量名称\n",
    "    var_list.sort()  # 列表排序\n",
    "    for v in var_list:  # 随机初始化每个变量的极值点\n",
    "        var_dic[v] = random.uniform(-20, 20)\n",
    "\n",
    "    # 梯度下降算法\n",
    "    for i in range(iterations):\n",
    "        # 计算梯度\n",
    "        grad = {}\n",
    "        for j in var_list:\n",
    "            grad[j] = derivative(j, var_dic[j])\n",
    "\n",
    "        # 更新参数\n",
    "        x_new = {}\n",
    "        for k in var_list:\n",
    "            x_new[k] = var_dic[k] - alpha * grad[k]\n",
    "            # 二元函数时记录(x,y)变化\n",
    "            if len(var_list) == 2:\n",
    "                if k == var_list[0]:\n",
    "                    x.append(x_new[var_list[0]])\n",
    "                    y.append(var_dic[var_list[1]])\n",
    "                else:\n",
    "                    x.append(x_new[var_list[0]])\n",
    "                    y.append(x_new[var_list[1]])\n",
    "        # 每个点都小于设定迭代精度时退出循环\n",
    "        flag = 1\n",
    "        for l in var_list:\n",
    "            if abs(x_new[l] - var_dic[l]) >= epsilon:\n",
    "                flag = 0\n",
    "        if flag:\n",
    "            break\n",
    "        # 更新极值点\n",
    "        for m in var_list:\n",
    "            var_dic[m] = x_new[m]\n",
    "        # 记录损失函数\n",
    "        loss.append(func(\"\", 0))\n",
    "        # 输出迭代结果\n",
    "        if i % 10 == 0:\n",
    "            print(\"Iteration\", i + 1, \": \", end='')\n",
    "            for m in var_list:\n",
    "                print(\"\\t\", m, \" =\", format(var_dic[m], \".12f\"), end='')\n",
    "            print()\n",
    "    # 输出最终的极值点\n",
    "    print(\"Final Result :  Iteration\", len(loss), \": \", var_dic, \"\\tf(\", end='')\n",
    "    for i in var_list:\n",
    "        if i != var_list[-1]:\n",
    "            print(i, end=\",\")\n",
    "        else:\n",
    "            print(i, end=\"\")\n",
    "    print(\") = \", func(\"\", 0), end=\"\\n\\n\")\n",
    "    # 二元函数时绘制点（x,y）的变化图\n",
    "    if len(var_list) == 2:\n",
    "        plt.plot(x, y)\n",
    "        plt.xlabel(\"x\")\n",
    "        plt.ylabel(\"y\")\n",
    "        plt.show()\n",
    "    # 绘制损失函数随迭代次数的变化图\n",
    "    plt.plot(loss)\n",
    "    plt.xlabel(\"time\")\n",
    "    plt.ylabel(\"loss\")\n",
    "    plt.show()\n",
    "    "
   ]
  },
  {
   "cell_type": "markdown",
   "id": "7b983045",
   "metadata": {},
   "source": [
    "作业2：线性回归预测房价"
   ]
  },
  {
   "cell_type": "code",
   "execution_count": 7,
   "id": "4cfeb42b",
   "metadata": {},
   "outputs": [
    {
     "name": "stdout",
     "output_type": "stream",
     "text": [
      "1.batch gradient descent： [0.9999327638659484, 2.999999685179454, 5.000000262247245]\n"
     ]
    },
    {
     "data": {
      "image/png": "[encoded data removed]",
      "text/plain": [
       "<Figure size 432x288 with 1 Axes>"
      ]
     },
     "metadata": {
      "needs_background": "light"
     },
     "output_type": "display_data"
    },
    {
     "name": "stdout",
     "output_type": "stream",
     "text": [
      "\n",
      "2.stochastic gradient descent： [0.9999294679431174, 2.999999711989337, 5.000000285668939]\n"
     ]
    },
    {
     "data": {
      "image/png": "[encoded data removed]",
      "text/plain": [
       "<Figure size 432x288 with 1 Axes>"
      ]
     },
     "metadata": {
      "needs_background": "light"
     },
     "output_type": "display_data"
    }
   ],
   "source": [
    "import copy\n",
    "import random\n",
    "import matplotlib.pyplot as plt\n",
    "\n",
    "alpha = 0.00001  # 学习率\n",
    "num = 1000  # 数据集数量\n",
    "iterations = 1000  # 迭代次数\n",
    "expression = \"1+3*x1+5*x2\"  # 表达式\n",
    "\n",
    "\n",
    "# 生成1000组数据\n",
    "def array_init(expression, array_x, array_y):\n",
    "    for i in range(1000):  # 生成1000组数据\n",
    "        x1 = random.uniform(-10, 10)\n",
    "        x2 = random.uniform(-10, 10)\n",
    "        array_x.append([1, x1, x2])  # 变量值\n",
    "        e = expression.replace(\"x1\", str(x1)).replace(\"x2\", str(x2))\n",
    "        array_y.append(eval(e))  # 函数值\n",
    "\n",
    "\n",
    "# 随机打乱数据\n",
    "def array_shuffle(array_x, array_y):\n",
    "    # 使用zip将两个数组的对应元素放在一起\n",
    "    combined = list(zip(array_x, array_y))\n",
    "    # 打乱combined列表的顺序\n",
    "    random.shuffle(combined)\n",
    "    # 将打乱的结果分离回两个数组\n",
    "    shuffle_array_x, shuffle_array_y = zip(*combined)\n",
    "    return shuffle_array_x, shuffle_array_y\n",
    "\n",
    "\n",
    "# 运行批量梯度下降算法\n",
    "def batch_gradient_descent(para, grad):\n",
    "    losses = []  # 记录每次迭代的损失函数值\n",
    "    for i in range(iterations):\n",
    "        loss = 0\n",
    "        for k in range(3):\n",
    "            grad[k] = 0  # 梯度初始为0\n",
    "        for j in range(len(array_x)):\n",
    "            # 计算预测值的函数值\n",
    "            h = para[0] * array_x[j][0] + para[1] * array_x[j][1] + para[2] * array_x[j][2]\n",
    "            # 计算梯度\n",
    "            for k in range(3):\n",
    "                grad[k] += (h - array_y[j]) * array_x[j][k]\n",
    "            loss += (h - array_y[j]) ** 2\n",
    "        # 更新预测值\n",
    "        for l in range(3):\n",
    "            para[l] = para[l] - alpha * grad[l]\n",
    "        # 计算损失函数\n",
    "        loss /= len(array_x)\n",
    "        losses.append(loss)\n",
    "    print(\"1.batch gradient descent：\", para)\n",
    "    # 绘制损失函数值随迭代次数的变化\n",
    "    plt.plot(losses)\n",
    "    plt.title(\"batch gradient descent\")\n",
    "    plt.show()\n",
    "\n",
    "\n",
    "# 运行随机梯度下降算法\n",
    "def stochastic_gradient_descent(para, grad):\n",
    "    losses = []  # 记录每次迭代的损失函数值\n",
    "    for i in range(iterations):\n",
    "        loss = 0  # 梯度初始为0\n",
    "        for k in range(3):\n",
    "            grad[k] = 0\n",
    "        for j in range(len(array_x)):\n",
    "            # 计算预测值的函数值\n",
    "            h = para[0] * array_x[j][0] + para[1] * array_x[j][1] + para[2] * array_x[j][2]\n",
    "            # 计算梯度\n",
    "            for k in range(3):\n",
    "                grad[k] = (h - array_y[j]) * array_x[j][k]\n",
    "            loss += (h - array_y[j]) ** 2\n",
    "            # 更新预测值\n",
    "            for l in range(3):\n",
    "                para[l] = para[l] - alpha * grad[l]\n",
    "        # 计算损失函数\n",
    "        loss /= len(array_x)\n",
    "        losses.append(loss)\n",
    "    print(\"\\n2.stochastic gradient descent：\", para)\n",
    "    # 绘制损失函数值随迭代次数的变化\n",
    "    plt.plot(losses)\n",
    "    plt.title(\"stochastic gradient descent\")\n",
    "    plt.show()\n",
    "\n",
    "\n",
    "array_x = []\n",
    "array_y = []\n",
    "# 生成1000组数据\n",
    "array_init(expression, array_x, array_y)\n",
    "# 随机打乱数据\n",
    "array_x, array_y = array_shuffle(array_x, array_y)\n",
    "grad = [0, 0, 0]  # 梯度值\n",
    "para = []\n",
    "for i in range(3):  # 随机初始化预测值\n",
    "    para.append(random.uniform(-10, 10))\n",
    "# 运行批量梯度下降算法\n",
    "batch_gradient_descent(copy.deepcopy(para), copy.deepcopy(grad))\n",
    "# 运行随机梯度下降算法\n",
    "stochastic_gradient_descent(copy.deepcopy(para), copy.deepcopy(grad))"
   ]
  }
 ],
 "metadata": {
  "kernelspec": {
   "display_name": "Python 3 (ipykernel)",
   "language": "python",
   "name": "python3"
  },
  "language_info": {
   "codemirror_mode": {
    "name": "ipython",
    "version": 3
   },
   "file_extension": ".py",
   "mimetype": "text/x-python",
   "name": "python",
   "nbconvert_exporter": "python",
   "pygments_lexer": "ipython3",
   "version": "3.9.7"
  }
 },
 "nbformat": 4,
 "nbformat_minor": 5
}
